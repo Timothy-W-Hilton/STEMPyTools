{
 "metadata": {
  "name": ""
 },
 "nbformat": 3,
 "nbformat_minor": 0,
 "worksheets": [
  {
   "cells": [
    {
     "cell_type": "code",
     "collapsed": false,
     "input": [
      "# #draw plots right in the notebook\n",
      "#%matplotlib inline\n",
      "# #produce figures at 120 dpi, not the default 72\n",
      "# import matplotlib\n",
      "# matplotlib.rcParams['savefig.dpi'] = 120\n",
      "\n",
      "import os, os.path\n",
      "import sys\n",
      "import numpy as np\n",
      "import matplotlib.cm as cm\n",
      "import matplotlib.pyplot as plt\n",
      "import mpl_toolkits.basemap as basemap\n",
      "import netCDF4 \n",
      "#for parsing STEM grid lat, lon\n",
      "import STEM_parsers as sp"
     ],
     "language": "python",
     "outputs": [],
     "prompt_number": 1
    },
    {
     "cell_type": "code",
     "collapsed": false,
     "input": [
      "fname_STEM_coords = '/Users/tim/work/Data/STEM/input/TOPO-124x124.nc'\n",
      "lon_stem, lat_stem, topo_stem = sp.parse_STEM_coordinates(fname_STEM_coords)\n",
      "nrows, ncols = lon_stem.shape\n",
      "nc_topo = netCDF4.Dataset(fname_STEM_coords, 'r')\n",
      "m = basemap.Basemap(projection='lcc',\n",
      "\t\t    lon_0=nc_topo.XCENT,\n",
      "\t\t    lat_0=nc_topo.YCENT,\n",
      "\t\t    width=nc_topo.XCELL * ncols,\n",
      "\t\t    height=nc_topo.YCELL * nrows)\n",
      "nc_topo.close()"
     ],
     "language": "python",
     "outputs": [],
     "prompt_number": 2
    },
    {
     "cell_type": "code",
     "collapsed": false,
     "input": [
      "fig, ax = plt.subplots()\n",
      "m.drawcoastlines()\n",
      "x, y = m(lon_stem, lat_stem, inverse=True)\n",
      "m.scatter(x, y)\n"
     ],
     "language": "python",
     "outputs": [
      {
       "output_type": "pyout",
       "prompt_number": 3,
       "text": [
        "<matplotlib.collections.PathCollection at 0x10f8559d0>"
       ]
      }
     ],
     "prompt_number": 3
    },
    {
     "cell_type": "code",
     "collapsed": false,
     "input": [
      "fname_STEM_coords = '/Users/tim/work/Data/STEM/input/TOPO-124x124.nc'\n",
      "lon_stem, lat_stem, topo_stem = sp.parse_STEM_coordinates(fname_STEM_coords)\n",
      "nrows, ncols = lon_stem.shape\n",
      "nc_topo = netCDF4.Dataset(fname_STEM_coords, 'r')\n",
      "m = basemap.Basemap(projection='stere',\n",
      "\t\t    lon_0=nc_topo.XCENT,\n",
      "\t\t    lat_0=nc_topo.YCENT,\n",
      "\t\t    width=nc_topo.XCELL * ncols,\n",
      "\t\t    height=nc_topo.YCELL * nrows)\n",
      "nc_topo.close()"
     ],
     "language": "python",
     "outputs": [],
     "prompt_number": 4
    },
    {
     "cell_type": "code",
     "collapsed": false,
     "input": [
      "fname_STEM_coords = '/Users/tim/work/Data/STEM/input/TOPO-124x124.nc'\n",
      "lon_stem, lat_stem, topo_stem = sp.parse_STEM_coordinates(fname_STEM_coords)\n",
      "mapwidth = 12.0e6  # not sure of units for width/height\n",
      "mapheight = 9.5e6\n",
      "R_EARTH = 6371007.181000  #Earth radius in meters\n",
      "m = basemap.Basemap(width=mapwidth,\n",
      "\t\t    height=mapheight,\n",
      "\t\t    projection='aeqd',\n",
      "\t\t    lat_0=54,\n",
      "\t\t    lon_0=-105,\n",
      "\t\t    resolution='l',\n",
      "\t\t    area_thresh=1000, #show features larger than 1000 km\n",
      "\t\t    rsphere=R_EARTH,\n",
      "\t\t    fix_aspect=True)\n",
      "m.drawcoastlines()\n",
      "m.plot(lon_stem, lat_stem, latlon=True,\n",
      "       marker='.',\n",
      "       markersize=0.5,\n",
      "       color='black')\n",
      "m.drawmeridians(meridians=range(0, -180, -20),\n",
      "\t\tlabels=(0, 0, 0, 1))  # labels on bottom\n",
      "m.drawparallels(circles=range(0, 90, 20),\n",
      "\t\tlabels=(1, 0, 0, 0))  # labels on left\n",
      "plt.title('TOPO-124x124.nc lon and lat values')\n",
      "plt.show()"
     ],
     "language": "python",
     "outputs": [],
     "prompt_number": 4
    },
    {
     "cell_type": "code",
     "collapsed": false,
     "input": [
      "n = 10\n",
      "x,y = np.meshgrid(range(n), range(n))\n",
      "fig, ax = plt.subplots()\n",
      "#cntrs = ax.plot(x, y, 'k.', label='cell centers')\n",
      "\n",
      "for i in range(n-1):\n",
      "    for j in range(n-1):\n",
      "\tprint (i, j), (i+1,j+1)\n",
      "\tax.plot((i, j), (i+1,j+1), linestyle='-', color='blue', marker='o')\n",
      "\n",
      "ax.set_title('grid vertices')\n",
      "plt.show()"
     ],
     "language": "python",
     "outputs": []
    }
   ]
  }
 ]
}